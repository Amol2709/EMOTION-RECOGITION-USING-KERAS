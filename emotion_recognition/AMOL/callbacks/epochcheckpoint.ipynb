{
 "cells": [
  {
   "cell_type": "code",
   "execution_count": null,
   "metadata": {},
   "outputs": [],
   "source": [
    "# import the necessary packages\n",
    "from keras.callbacks import Callback\n",
    "import os\n",
    "\n",
    "class EpochCheckpoint(Callback):\n",
    "\tdef __init__(self, outputPath, every=5, startAt=0):\n",
    "\t\t# call the parent constructor\n",
    "\t\tsuper(Callback, self).__init__()\n",
    "\n",
    "\t\t# store the base output path for the model, the number of\n",
    "\t\t# epochs that must pass before the model is serialized to\n",
    "\t\t# disk and the current epoch value\n",
    "\t\tself.outputPath = outputPath\n",
    "\t\tself.every = every\n",
    "\t\tself.intEpoch = startAt\n",
    "\n",
    "\tdef on_epoch_end(self, epoch, logs={}):\n",
    "\t\t# check to see if the model should be serialized to disk\n",
    "\t\tif (self.intEpoch + 1) % self.every == 0:\n",
    "\t\t\tp = os.path.sep.join([self.outputPath,\n",
    "\t\t\t\t\"epoch_{}.hdf5\".format(self.intEpoch + 1)])\n",
    "\t\t\tself.model.save(p, overwrite=True)\n",
    "\n",
    "\t\t# increment the internal epoch counter\n",
    "\t\tself.intEpoch += 1"
   ]
  }
 ],
 "metadata": {
  "kernelspec": {
   "display_name": "Python 3",
   "language": "python",
   "name": "python3"
  },
  "language_info": {
   "codemirror_mode": {
    "name": "ipython",
    "version": 3
   },
   "file_extension": ".py",
   "mimetype": "text/x-python",
   "name": "python",
   "nbconvert_exporter": "python",
   "pygments_lexer": "ipython3",
   "version": "3.6.5"
  }
 },
 "nbformat": 4,
 "nbformat_minor": 2
}
