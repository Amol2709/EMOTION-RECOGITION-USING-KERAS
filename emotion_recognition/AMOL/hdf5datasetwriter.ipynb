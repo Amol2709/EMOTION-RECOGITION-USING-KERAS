{
 "cells": [
  {
   "cell_type": "code",
   "execution_count": 1,
   "metadata": {},
   "outputs": [
    {
     "name": "stderr",
     "output_type": "stream",
     "text": [
      "C:\\ProgramData\\Anaconda3\\lib\\site-packages\\h5py\\__init__.py:36: FutureWarning: Conversion of the second argument of issubdtype from `float` to `np.floating` is deprecated. In future, it will be treated as `np.float64 == np.dtype(float).type`.\n",
      "  from ._conv import register_converters as _register_converters\n"
     ]
    }
   ],
   "source": [
    "import h5py\n",
    "import os"
   ]
  },
  {
   "cell_type": "code",
   "execution_count": 3,
   "metadata": {},
   "outputs": [],
   "source": [
    "class HDF5DatasetWriter:\n",
    "    def __init__(self, dims, outputPath, dataKey=\"images\",bufSize=1000):\n",
    "        # check to see if the output path exists, and if so, raise  an exception\n",
    "        if os.path.exists(outputPath):\n",
    "            raise ValueError(\"The supplied ‘outputPath‘ already exists and cannot be overwritten. Manually delete the file before continuing.\", outputPath)\n",
    "        # open the HDF5 database for writing and create two datasets:\n",
    "        # one to store the images/features and another to store the\n",
    "        # class labels\n",
    "        self.db = h5py.File(outputPath, \"w\")\n",
    "        self.data = self.db.create_dataset(dataKey, dims,dtype=\"float\")\n",
    "        self.labels = self.db.create_dataset(\"labels\", (dims[0],),dtype=\"int\")\n",
    "        # store the buffer size, then initialize the buffer itself\n",
    "        # along with the index into the datasets\n",
    "        self.bufSize = bufSize\n",
    "        self.buffer = {\"data\": [], \"labels\": []}\n",
    "        self.idx = 0\n",
    "    def add(self, rows, labels):\n",
    "        # add the rows and labels to the buffer\n",
    "        self.buffer[\"data\"].extend(rows)\n",
    "        self.buffer[\"labels\"].extend(labels)\n",
    "        # check to see if the buffer needs to be flushed to disk\n",
    "        if len(self.buffer[\"data\"]) >= self.bufSize:\n",
    "            self.flush()\n",
    "    def flush(self):\n",
    "        # write the buffers to disk then reset the buffer\n",
    "        i = self.idx + len(self.buffer[\"data\"])\n",
    "        self.data[self.idx:i] = self.buffer[\"data\"]\n",
    "        self.labels[self.idx:i] = self.buffer[\"labels\"]\n",
    "        self.idx = i\n",
    "        self.buffer = {\"data\": [], \"labels\": []}\n",
    "    def storeClassLabels(self, classLabels):\n",
    "        # create a dataset to store the actual class label names,\n",
    "        # then store the class labels\n",
    "        dt = h5py.special_dtype(vlen=unicode)\n",
    "        labelSet = self.db.create_dataset(\"label_names\",(len(classLabels),), dtype=dt)\n",
    "        labelSet[:] = classLabels\n",
    "    def close(self):\n",
    "        # check to see if there are any other entries in the buffer\n",
    "        # that need to be flushed to disk\n",
    "        if len(self.buffer[\"data\"]) > 0:\n",
    "            self.flush()\n",
    "        # close the dataset\n",
    "        self.db.close()"
   ]
  },
  {
   "cell_type": "code",
   "execution_count": null,
   "metadata": {},
   "outputs": [],
   "source": []
  }
 ],
 "metadata": {
  "kernelspec": {
   "display_name": "Python 3",
   "language": "python",
   "name": "python3"
  },
  "language_info": {
   "codemirror_mode": {
    "name": "ipython",
    "version": 3
   },
   "file_extension": ".py",
   "mimetype": "text/x-python",
   "name": "python",
   "nbconvert_exporter": "python",
   "pygments_lexer": "ipython3",
   "version": "3.6.5"
  }
 },
 "nbformat": 4,
 "nbformat_minor": 2
}
